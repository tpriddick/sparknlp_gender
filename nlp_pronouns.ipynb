{
  "cells": [
    {
      "cell_type": "markdown",
      "metadata": {
        "id": "ta4B7Z6liHqq"
      },
      "source": [
        "## Introduction\n",
        "\n",
        "Is there a statistically significant difference between subject and object frequencies for feminine and masculine personal pronouns?\n",
        "\n",
        "Is is possible to predict the gender of a character in a story using the pronouns around them?\n",
        "\n",
        "Yes\n",
        "\n",
        "He and she are subjective pronouns (easy to identify)\n",
        "\n",
        "Him and her are objective pronouns\n",
        "- Him is easy to identify, but her is both a objective pronoun and a possessive adjective. To discriminate between the two, we wrote a function to perform POS tagging and then identify instances of the word \"her\" that were NOT followed by a noun (either a NN or NNS type). These instances of \"her\" were counted as objective, and the rest were counted as possessive.\n",
        "\n",
        "His and her are possessive adjectives\n",
        "\n",
        "His and hers are possessive pronouns\n",
        "- \"His\" is both a possessive adjective and a possesive pronouns. For the purpose of our project, we did not distinguish between the two and sorted them both as male pronouns.\n",
        "\n",
        "\n",
        "## Methodology\n",
        "\n",
        "Datasets: *Pride and Prejudice* by Jane Austen; *Frankenstein: Or, the Modern Prometheus* by Mary Shelley; and *Wuthering Heights* by Emily Brontë all taken from Calvin's Project Gutenberg repository.\n",
        "\n",
        "Technologies: **SparkNLP** (for POS-tagging) and **Spacy** (for Named-Entity Recognition)\n",
        "\n",
        "Process:\n",
        "1. Identified corpus of interest\n",
        "2. Run all books through a cleaner (removes periods after honorifics since we split into sentences by splitting on periods. Also removed hyphens)\n",
        "3. Add periods back in to aid in identifying instances of the objective \"her\" (Possessive adjective \"her\" instances are followed by nouns, and without the periods, the function may mistakenly identify objective \"her\"s as possessive if the following sentence starts with a noun)\n",
        "4. Find all the people in each sentence, and count the instances of male and female pronouns in that sentence. Added person with the counts to a dictionary with the name as the key\n",
        "5. Convert dictionary to list to iterate through list\n",
        "6. Drop any characters with a total pronoun count of fewer than 10.\n",
        "7. Make prediction for each character based off the pronoun counts\n",
        "8. The function \"manually_verify\" manually verifies whether a character is a man or a woman by asking the user to identify if a character is male or female\n",
        "9. It compares the true values entered to the predicted values to produce the final accuracy for all of the male and female characters. We get total accuracy, male accuracy, and female accuracy.\n",
        "\n",
        "## Hypotheses\n",
        "\n",
        "1. Because all of our books in the corpus are written by women, we predict that there will be no statistical difference between the subjective male counts, subjective female counts, objective male counts, and objective female counts.\n",
        "\n",
        "2. We predict that we can predict the gender of a character given the count of male vs female pronouns in the sentences in which they are mentioned with better accuracy than a coin flip.\n",
        "\n",
        "## Evaluation\n",
        "\n",
        "For the character evaluator, it was a simple accuracy check: the predicted results divided by the actual values. We split it by book, so we could get a gauge of how well the model performs on each book. We also measured the accuracy by gender, and found that the accuracy by gender varied for each book, though Frakenstein performed the best in all categories with a 100% accuracy (likely due to the small number of characters).\n",
        "\n",
        "For the frequencies of male vs female subjective vs objective pronouns, we found that the differences for male subjective vs female subjective and male objective vs female objective were not statistically significant.\n",
        "\n",
        "## Conclusion\n",
        "\n"
      ]
    },
    {
      "cell_type": "markdown",
      "source": [
        "pip installs, library imports, and global vars"
      ],
      "metadata": {
        "id": "cTJDTGGvEGNe"
      }
    },
    {
      "cell_type": "code",
      "source": [
        "%pip install sparknlp\n",
        "%pip install pyspark\n",
        "%pip install spacy"
      ],
      "metadata": {
        "id": "evhlEEXBEBme",
        "colab": {
          "base_uri": "https://localhost:8080/"
        },
        "outputId": "3bbc3501-3b0b-4a1d-c168-1f459ec214b1"
      },
      "execution_count": null,
      "outputs": [
        {
          "output_type": "stream",
          "name": "stdout",
          "text": [
            "Collecting sparknlp\n",
            "  Downloading sparknlp-1.0.0-py3-none-any.whl (1.4 kB)\n",
            "Collecting spark-nlp (from sparknlp)\n",
            "  Downloading spark_nlp-5.4.1-py2.py3-none-any.whl (579 kB)\n",
            "\u001b[2K     \u001b[90m━━━━━━━━━━━━━━━━━━━━━━━━━━━━━━━━━━━━━━━━\u001b[0m \u001b[32m579.2/579.2 kB\u001b[0m \u001b[31m3.0 MB/s\u001b[0m eta \u001b[36m0:00:00\u001b[0m\n",
            "\u001b[?25hRequirement already satisfied: numpy in /usr/local/lib/python3.10/dist-packages (from sparknlp) (1.25.2)\n",
            "Installing collected packages: spark-nlp, sparknlp\n",
            "Successfully installed spark-nlp-5.4.1 sparknlp-1.0.0\n",
            "Collecting pyspark\n",
            "  Downloading pyspark-3.5.1.tar.gz (317.0 MB)\n",
            "\u001b[2K     \u001b[90m━━━━━━━━━━━━━━━━━━━━━━━━━━━━━━━━━━━━━━━━\u001b[0m \u001b[32m317.0/317.0 MB\u001b[0m \u001b[31m4.0 MB/s\u001b[0m eta \u001b[36m0:00:00\u001b[0m\n",
            "\u001b[?25h  Preparing metadata (setup.py) ... \u001b[?25l\u001b[?25hdone\n",
            "Requirement already satisfied: py4j==0.10.9.7 in /usr/local/lib/python3.10/dist-packages (from pyspark) (0.10.9.7)\n",
            "Building wheels for collected packages: pyspark\n",
            "  Building wheel for pyspark (setup.py) ... \u001b[?25l\u001b[?25hdone\n",
            "  Created wheel for pyspark: filename=pyspark-3.5.1-py2.py3-none-any.whl size=317488491 sha256=707337dd4c4ddc6bbfefb9b0b7c783570dbda6b415fc9ed370b6eca650ef4ec3\n",
            "  Stored in directory: /root/.cache/pip/wheels/80/1d/60/2c256ed38dddce2fdd93be545214a63e02fbd8d74fb0b7f3a6\n",
            "Successfully built pyspark\n",
            "Installing collected packages: pyspark\n",
            "Successfully installed pyspark-3.5.1\n",
            "Requirement already satisfied: spacy in /usr/local/lib/python3.10/dist-packages (3.7.5)\n",
            "Requirement already satisfied: spacy-legacy<3.1.0,>=3.0.11 in /usr/local/lib/python3.10/dist-packages (from spacy) (3.0.12)\n",
            "Requirement already satisfied: spacy-loggers<2.0.0,>=1.0.0 in /usr/local/lib/python3.10/dist-packages (from spacy) (1.0.5)\n",
            "Requirement already satisfied: murmurhash<1.1.0,>=0.28.0 in /usr/local/lib/python3.10/dist-packages (from spacy) (1.0.10)\n",
            "Requirement already satisfied: cymem<2.1.0,>=2.0.2 in /usr/local/lib/python3.10/dist-packages (from spacy) (2.0.8)\n",
            "Requirement already satisfied: preshed<3.1.0,>=3.0.2 in /usr/local/lib/python3.10/dist-packages (from spacy) (3.0.9)\n",
            "Requirement already satisfied: thinc<8.3.0,>=8.2.2 in /usr/local/lib/python3.10/dist-packages (from spacy) (8.2.5)\n",
            "Requirement already satisfied: wasabi<1.2.0,>=0.9.1 in /usr/local/lib/python3.10/dist-packages (from spacy) (1.1.3)\n",
            "Requirement already satisfied: srsly<3.0.0,>=2.4.3 in /usr/local/lib/python3.10/dist-packages (from spacy) (2.4.8)\n",
            "Requirement already satisfied: catalogue<2.1.0,>=2.0.6 in /usr/local/lib/python3.10/dist-packages (from spacy) (2.0.10)\n",
            "Requirement already satisfied: weasel<0.5.0,>=0.1.0 in /usr/local/lib/python3.10/dist-packages (from spacy) (0.4.1)\n",
            "Requirement already satisfied: typer<1.0.0,>=0.3.0 in /usr/local/lib/python3.10/dist-packages (from spacy) (0.12.3)\n",
            "Requirement already satisfied: tqdm<5.0.0,>=4.38.0 in /usr/local/lib/python3.10/dist-packages (from spacy) (4.66.4)\n",
            "Requirement already satisfied: requests<3.0.0,>=2.13.0 in /usr/local/lib/python3.10/dist-packages (from spacy) (2.31.0)\n",
            "Requirement already satisfied: pydantic!=1.8,!=1.8.1,<3.0.0,>=1.7.4 in /usr/local/lib/python3.10/dist-packages (from spacy) (2.8.2)\n",
            "Requirement already satisfied: jinja2 in /usr/local/lib/python3.10/dist-packages (from spacy) (3.1.4)\n",
            "Requirement already satisfied: setuptools in /usr/local/lib/python3.10/dist-packages (from spacy) (67.7.2)\n",
            "Requirement already satisfied: packaging>=20.0 in /usr/local/lib/python3.10/dist-packages (from spacy) (24.1)\n",
            "Requirement already satisfied: langcodes<4.0.0,>=3.2.0 in /usr/local/lib/python3.10/dist-packages (from spacy) (3.4.0)\n",
            "Requirement already satisfied: numpy>=1.19.0 in /usr/local/lib/python3.10/dist-packages (from spacy) (1.25.2)\n",
            "Requirement already satisfied: language-data>=1.2 in /usr/local/lib/python3.10/dist-packages (from langcodes<4.0.0,>=3.2.0->spacy) (1.2.0)\n",
            "Requirement already satisfied: annotated-types>=0.4.0 in /usr/local/lib/python3.10/dist-packages (from pydantic!=1.8,!=1.8.1,<3.0.0,>=1.7.4->spacy) (0.7.0)\n",
            "Requirement already satisfied: pydantic-core==2.20.1 in /usr/local/lib/python3.10/dist-packages (from pydantic!=1.8,!=1.8.1,<3.0.0,>=1.7.4->spacy) (2.20.1)\n",
            "Requirement already satisfied: typing-extensions>=4.6.1 in /usr/local/lib/python3.10/dist-packages (from pydantic!=1.8,!=1.8.1,<3.0.0,>=1.7.4->spacy) (4.12.2)\n",
            "Requirement already satisfied: charset-normalizer<4,>=2 in /usr/local/lib/python3.10/dist-packages (from requests<3.0.0,>=2.13.0->spacy) (3.3.2)\n",
            "Requirement already satisfied: idna<4,>=2.5 in /usr/local/lib/python3.10/dist-packages (from requests<3.0.0,>=2.13.0->spacy) (3.7)\n",
            "Requirement already satisfied: urllib3<3,>=1.21.1 in /usr/local/lib/python3.10/dist-packages (from requests<3.0.0,>=2.13.0->spacy) (2.0.7)\n",
            "Requirement already satisfied: certifi>=2017.4.17 in /usr/local/lib/python3.10/dist-packages (from requests<3.0.0,>=2.13.0->spacy) (2024.7.4)\n",
            "Requirement already satisfied: blis<0.8.0,>=0.7.8 in /usr/local/lib/python3.10/dist-packages (from thinc<8.3.0,>=8.2.2->spacy) (0.7.11)\n",
            "Requirement already satisfied: confection<1.0.0,>=0.0.1 in /usr/local/lib/python3.10/dist-packages (from thinc<8.3.0,>=8.2.2->spacy) (0.1.5)\n",
            "Requirement already satisfied: click>=8.0.0 in /usr/local/lib/python3.10/dist-packages (from typer<1.0.0,>=0.3.0->spacy) (8.1.7)\n",
            "Requirement already satisfied: shellingham>=1.3.0 in /usr/local/lib/python3.10/dist-packages (from typer<1.0.0,>=0.3.0->spacy) (1.5.4)\n",
            "Requirement already satisfied: rich>=10.11.0 in /usr/local/lib/python3.10/dist-packages (from typer<1.0.0,>=0.3.0->spacy) (13.7.1)\n",
            "Requirement already satisfied: cloudpathlib<1.0.0,>=0.7.0 in /usr/local/lib/python3.10/dist-packages (from weasel<0.5.0,>=0.1.0->spacy) (0.18.1)\n",
            "Requirement already satisfied: smart-open<8.0.0,>=5.2.1 in /usr/local/lib/python3.10/dist-packages (from weasel<0.5.0,>=0.1.0->spacy) (7.0.4)\n",
            "Requirement already satisfied: MarkupSafe>=2.0 in /usr/local/lib/python3.10/dist-packages (from jinja2->spacy) (2.1.5)\n",
            "Requirement already satisfied: marisa-trie>=0.7.7 in /usr/local/lib/python3.10/dist-packages (from language-data>=1.2->langcodes<4.0.0,>=3.2.0->spacy) (1.2.0)\n",
            "Requirement already satisfied: markdown-it-py>=2.2.0 in /usr/local/lib/python3.10/dist-packages (from rich>=10.11.0->typer<1.0.0,>=0.3.0->spacy) (3.0.0)\n",
            "Requirement already satisfied: pygments<3.0.0,>=2.13.0 in /usr/local/lib/python3.10/dist-packages (from rich>=10.11.0->typer<1.0.0,>=0.3.0->spacy) (2.16.1)\n",
            "Requirement already satisfied: wrapt in /usr/local/lib/python3.10/dist-packages (from smart-open<8.0.0,>=5.2.1->weasel<0.5.0,>=0.1.0->spacy) (1.14.1)\n",
            "Requirement already satisfied: mdurl~=0.1 in /usr/local/lib/python3.10/dist-packages (from markdown-it-py>=2.2.0->rich>=10.11.0->typer<1.0.0,>=0.3.0->spacy) (0.1.2)\n"
          ]
        }
      ]
    },
    {
      "cell_type": "code",
      "source": [
        "import sparknlp\n",
        "import os\n",
        "import spacy\n",
        "import pyspark\n",
        "from pyspark.sql import SparkSession\n",
        "from tqdm import tqdm\n",
        "import datetime\n",
        "import pandas as pd\n",
        "from sparknlp.pretrained import PretrainedPipeline\n",
        "import scipy.stats as stats\n",
        "import matplotlib.pyplot as plt"
      ],
      "metadata": {
        "id": "v2hhY8g3EBa0"
      },
      "execution_count": null,
      "outputs": []
    },
    {
      "cell_type": "code",
      "execution_count": null,
      "metadata": {
        "colab": {
          "base_uri": "https://localhost:8080/"
        },
        "id": "vsMErUvkqQHk",
        "outputId": "6fce38df-de69-4fc4-a924-b9e7d9df1789"
      },
      "outputs": [
        {
          "output_type": "stream",
          "name": "stdout",
          "text": [
            "explain_document_ml download started this may take some time.\n",
            "Approx size to download 9 MB\n",
            "[OK!]\n"
          ]
        }
      ],
      "source": [
        "spark = sparknlp.start()\n",
        "root = os.path.dirname(os.path.realpath('cormac.ipynb'))\n",
        "pipeline = PretrainedPipeline(\"explain_document_ml\")"
      ]
    },
    {
      "cell_type": "markdown",
      "source": [
        "get corpus"
      ],
      "metadata": {
        "id": "xjqBxlqjE0An"
      }
    },
    {
      "cell_type": "code",
      "source": [
        "book_list = ['pg1342.txt', 'pg768.txt', 'pg84.txt']\n",
        "# curl each book\n",
        "for book in book_list:\n",
        "  !curl \"https://raw.githubusercontent.com/cd-public/books/main/{book}\" -o {book}"
      ],
      "metadata": {
        "id": "oNegfGi-ERfi",
        "colab": {
          "base_uri": "https://localhost:8080/"
        },
        "outputId": "7582120e-c76a-4f01-9664-63d092764da2"
      },
      "execution_count": null,
      "outputs": [
        {
          "output_type": "stream",
          "name": "stdout",
          "text": [
            "  % Total    % Received % Xferd  Average Speed   Time    Time     Time  Current\n",
            "                                 Dload  Upload   Total   Spent    Left  Speed\n",
            "100  739k  100  739k    0     0  1707k      0 --:--:-- --:--:-- --:--:-- 1708k\n",
            "  % Total    % Received % Xferd  Average Speed   Time    Time     Time  Current\n",
            "                                 Dload  Upload   Total   Spent    Left  Speed\n",
            "100  665k  100  665k    0     0  2562k      0 --:--:-- --:--:-- --:--:-- 2558k\n",
            "  % Total    % Received % Xferd  Average Speed   Time    Time     Time  Current\n",
            "                                 Dload  Upload   Total   Spent    Left  Speed\n",
            "100  430k  100  430k    0     0  1187k      0 --:--:-- --:--:-- --:--:-- 1190k\n"
          ]
        }
      ]
    },
    {
      "cell_type": "code",
      "execution_count": null,
      "metadata": {
        "id": "wdKebnQ0sJEU"
      },
      "outputs": [],
      "source": [
        "def read_txt(filename = 'pg1342.txt'):\n",
        "  file = open(root + '/' + filename,\"r\")\n",
        "  return file.read()\n",
        "pride = read_txt()\n",
        "frank = read_txt('pg84.txt')\n",
        "wuther = read_txt('pg768.txt')"
      ]
    },
    {
      "cell_type": "code",
      "execution_count": null,
      "metadata": {
        "id": "gtnweMxH6sSZ"
      },
      "outputs": [],
      "source": [
        "pronouns = ['he','him','his','she','her','hers']\n",
        "def pronoun_check(x):\n",
        "  '''\n",
        "  x = list of tuples\n",
        "  returns list of tuples with only pronouns\n",
        "  '''\n",
        "  pro_toks = []\n",
        "  male_count, female_count = 0, 0\n",
        "  for i in x:\n",
        "    flag = False\n",
        "    last_pos = ''\n",
        "    last_tok = ''\n",
        "    for y in i:\n",
        "      if flag:\n",
        "        if pos != 'NN' and pos != 'NNS' and token == '.':\n",
        "          female_count += 1\n",
        "          flag = False\n",
        "          continue\n",
        "      token, pos = y\n",
        "      token = token.lower()\n",
        "      # Magic (identifies instances of 'her' that are objective)\n",
        "      if token in pronouns:\n",
        "        if token == 'her':\n",
        "          flag = True\n",
        "          last_pos = pos\n",
        "          last_tok = token\n",
        "        else:\n",
        "            if token == 'he' or token == 'him':\n",
        "              male_count += 1\n",
        "            else:\n",
        "              female_count += 1\n",
        "\n",
        "  return male_count, female_count\n",
        "\n",
        "#def count_pronouns(x):"
      ]
    },
    {
      "cell_type": "code",
      "source": [
        "def count_subObjPos(x):\n",
        "  '''\n",
        "  x = list of tuples\n",
        "  returns count of instances of each type of pronoun\n",
        "  '''\n",
        "  pro_toks = []\n",
        "  male_countSub, female_countSub, male_countObj, female_countObj, male_countPos, female_countPos = 0, 0, 0, 0, 0, 0\n",
        "  male_count, female_count = 0, 0\n",
        "  for i in x:\n",
        "    flag = False\n",
        "    last_pos = ''\n",
        "    last_tok = ''\n",
        "    for y in i:\n",
        "      if flag:\n",
        "        if pos != 'NN' and pos != 'NNS' and token == '.':\n",
        "          female_countObj += 1\n",
        "          flag = False\n",
        "        else:\n",
        "          female_countPos += 1\n",
        "          flag = False\n",
        "          continue\n",
        "      token, pos = y\n",
        "      token = token.lower()\n",
        "      # Magic (identifies instances of 'her' that are objective)\n",
        "      if token in pronouns:\n",
        "        if token == 'her':\n",
        "          flag = True\n",
        "          last_pos = pos\n",
        "          last_tok = token\n",
        "        else:\n",
        "            if token == 'he':\n",
        "              male_countSub += 1\n",
        "            elif token == 'him':\n",
        "              male_countObj += 1\n",
        "            elif token == 'she':\n",
        "              female_countSub += 1\n",
        "            elif token == 'hers':\n",
        "              female_countPos += 1\n",
        "            elif token == 'his':\n",
        "              male_countPos += 1\n",
        "  male_count = male_countSub + male_countObj + male_countPos\n",
        "  female_count = female_countSub + female_countObj + female_countPos\n",
        "\n",
        "  return male_count, female_count, male_countSub, female_countSub, male_countObj, female_countObj, male_countPos, female_countPos"
      ],
      "metadata": {
        "id": "KqkHK7mKQqDi"
      },
      "execution_count": null,
      "outputs": []
    },
    {
      "cell_type": "code",
      "execution_count": null,
      "metadata": {
        "id": "A-XHb5PVqX8V"
      },
      "outputs": [],
      "source": [
        "def book_cleaner(text):\n",
        "  text = text.replace('Mr.','Mr')\n",
        "  text = text.replace('Mrs.','Mrs')\n",
        "  text = text.replace('Ms.','Ms')\n",
        "  text = text.replace('Dr.','Dr')\n",
        "  text = text.replace('_','')\n",
        "  text = text.replace('-','')\n",
        "  # text = text.replace('\\n', ' ')\n",
        "  # text = text.replace('\"\"',' ')\n",
        "  # text = text.replace('  ',' ')\n",
        "  # # text = text.lower()\n",
        "  return text\n",
        "\n",
        "pridesplit = book_cleaner(pride).split('.')\n",
        "franksplit = book_cleaner(frank).split('.')\n",
        "wuthersplit = book_cleaner(wuther).split('.')"
      ]
    },
    {
      "cell_type": "code",
      "execution_count": null,
      "metadata": {
        "id": "0T9ebsbn15pj"
      },
      "outputs": [],
      "source": [
        "def period(sentences):\n",
        "  sent_list = []\n",
        "  for sent in sentences:\n",
        "    sent = sent+'.'\n",
        "    sent_list.append(sent)\n",
        "  return sent_list\n",
        "pridesplit = period(pridesplit)\n",
        "franksplit = period(franksplit)\n",
        "wuthersplit = period(wuthersplit)"
      ]
    },
    {
      "cell_type": "markdown",
      "source": [
        "for each sentence, find all people mentiond. Add the number of male and female pronounce counted in the sentence to a dict where the key is the persons name."
      ],
      "metadata": {
        "id": "g6c2jw4Fv3D6"
      }
    },
    {
      "cell_type": "code",
      "execution_count": null,
      "metadata": {
        "id": "zvwfjdrhtni8",
        "colab": {
          "base_uri": "https://localhost:8080/"
        },
        "outputId": "ae7ab6c4-5241-445d-d270-2cf4f441f067"
      },
      "outputs": [
        {
          "output_type": "stream",
          "name": "stderr",
          "text": [
            "100%|██████████| 5516/5516 [15:32<00:00,  5.92it/s]\n",
            "100%|██████████| 3129/3129 [03:20<00:00, 15.62it/s]\n",
            "100%|██████████| 4922/4922 [10:55<00:00,  7.51it/s]\n"
          ]
        }
      ],
      "source": [
        "def book_person_dict_builder(split_book):\n",
        "  nlp = spacy.load('en_core_web_sm')\n",
        "  personGenderCount = {} # person: malePronounCount, femalePronounCount\n",
        "  # for sent in pridesplit:\n",
        "  for sent in tqdm(split_book): # for each sentence in pride\n",
        "    doc = nlp(sent) # create the spacy doc\n",
        "    people = []\n",
        "    for ent in doc.ents:\n",
        "      if ent.label_ == 'PERSON':\n",
        "        people.append(ent.text) # get all people entities\n",
        "    if len(people) == 0: # if there aren't any people\n",
        "      continue # move onto next sentence\n",
        "    annoted_sent = pipeline.annotate(sent) # annotate the sentence with parts of speach\n",
        "    tok_tag = [(annoted_sent['token'], annoted_sent['pos'])] # list of tuples (token, part of speech)\n",
        "    zips = [list(zip(tt[0],tt[1])) for tt in tok_tag] # zip\n",
        "    male_count, female_count,_,_,_,_,_,_ = count_subObjPos(zips) # get male/female PN counts\n",
        "    for person in people: # for each person in the sentence\n",
        "      try: # if they already exist in the the dict\n",
        "        # add the old counts to the new\n",
        "        person_male_count = personGenderCount[person][0]\n",
        "        person_female_count = personGenderCount[person][1]\n",
        "        personGenderCount[person] = person_male_count + male_count, person_female_count + female_count\n",
        "      except KeyError: # if they don't exist in the dict, add them\n",
        "        personGenderCount[person] = male_count, female_count\n",
        "\n",
        "  return personGenderCount\n",
        "\n",
        "pride_dict = book_person_dict_builder(pridesplit)\n",
        "frank_dict = book_person_dict_builder(franksplit)\n",
        "wuther_dict = book_person_dict_builder(wuthersplit)\n"
      ]
    },
    {
      "cell_type": "markdown",
      "source": [
        "convert dict to list so we can itterate through it"
      ],
      "metadata": {
        "id": "_9g3evK2vtSU"
      }
    },
    {
      "cell_type": "code",
      "source": [
        "def dict_to_list(dict):\n",
        "  # convert personGenderCount to list\n",
        "  out = []\n",
        "  for key, value in dict.items():\n",
        "    m_count, f_count = value[0], value[1]\n",
        "    if m_count + f_count < 10:\n",
        "      continue\n",
        "    out.append([key, value[0], value[1]])\n",
        "  return out\n",
        "\n",
        "personGenderList_pride = dict_to_list(pride_dict)\n",
        "personGenderList_frank = dict_to_list(frank_dict)\n",
        "personGenderList_wuther = dict_to_list(wuther_dict)\n"
      ],
      "metadata": {
        "id": "naMWykihBnWq"
      },
      "execution_count": null,
      "outputs": []
    },
    {
      "cell_type": "markdown",
      "source": [
        "manually verify each persons gender (do not presume to know unless prefaced by Mr, Mrs, ... etc)"
      ],
      "metadata": {
        "id": "zNgh7Q22vbEw"
      }
    },
    {
      "cell_type": "code",
      "source": [
        "def manual_verify(personGenderList, book):\n",
        "  out_list = [] # will consist of [name, prediction, actual]\n",
        "  try:\n",
        "    old_out_file = pd.read_csv(book + '_output' + '.csv')\n",
        "  except:\n",
        "    old_out_file = []\n",
        "  for person in personGenderList:\n",
        "    name, male_count, female_count = person[0], person[1], person[2]\n",
        "    prediciton = 1 if male_count > female_count else 0\n",
        "    if len(old_out_file) > 0:\n",
        "      if name in old_out_file['name'].values:\n",
        "        actual = old_out_file[old_out_file['name'] == name]['actual'].values[0]\n",
        "    else:\n",
        "      actual = input('Is ' + name + ': ' + str(prediciton) + '? ') # 1 for M, 0 for F, -1 for other\n",
        "    out_list.append([name, prediciton, actual])\n",
        "  return out_list\n",
        "\n",
        "out_list_pride = manual_verify(personGenderList_pride, 'pride')\n",
        "out_list_frank = manual_verify(personGenderList_frank, 'frank')\n",
        "out_list_wuther = manual_verify(personGenderList_wuther, 'wuther')"
      ],
      "metadata": {
        "id": "yVqnpHSeo2YX",
        "colab": {
          "base_uri": "https://localhost:8080/"
        },
        "outputId": "76f829b7-0476-4b80-9444-1c14eb5a6dc1"
      },
      "execution_count": null,
      "outputs": [
        {
          "name": "stdout",
          "output_type": "stream",
          "text": [
            "Is Mary: 0? 0\n",
            "Is Austen: 0? 0\n",
            "Is Wickham: 1? 1\n",
            "Is Jane: 0? 0\n",
            "Is Darcy: 1? 1\n",
            "Is Elizabeth: 0? 0\n",
            "Is Bennet: 0? 0\n",
            "Is Collins: 1? 1\n",
            "Is Mrs\n",
            "Bennet: 1? 0\n",
            "Is Mrs Bennet: 0? 0\n",
            "Is Mr Collins: 1? 1\n",
            "Is Lady Catherine de Bourgh: 1? 0\n",
            "Is Lady Catherine: 0? 0\n",
            "Is Kitty: 0? 0\n",
            "Is Mrs Bennet’s: 0? 0\n",
            "Is Bingleys: 0? 1\n",
            "Is Pemberley: 0? -1\n",
            "Is Mr Bingley: 0? 1\n",
            "Is Lizzy: 0? 0\n",
            "Is Mrs Long: 1? 0\n",
            "Is Bingley: 0? 1\n",
            "Is William: 1? 1\n",
            "Is Lydia: 0? 0\n",
            "Is Mrs Hurst: 0? 0\n",
            "Is Catherine: 1? 0\n",
            "Is Maria Lucas: 0? 0\n",
            "Is Miss Bingley: 0? 0\n",
            "Is Miss Bennet: 1? 0\n",
            "Is William Lucas: 1? 1\n",
            "Is Lucas Lodge: 1? -1\n",
            "Is Lucas: 0? 0\n",
            "Is Robinson: 1? 1\n",
            "Is Forster: 1? 1\n",
            "Is Meryton: 1? -1\n",
            "Is Mrs Philips: 0? 0\n",
            "Is Miss\n",
            "Bennet: 0? 0\n",
            "Is Charles: 1? 1\n",
            "Is Jones: 0? 1\n",
            "Is Netherfield: 0? -1\n",
            "Is Gardiner: 1? 1\n",
            "Is Miss de Bourgh: 0? 0\n",
            "Is Denny: 1? 1\n",
            "Is Lady Catherine de\n",
            "Bourgh: 1? 0\n",
            "Is Mr Wickham: 1? 1\n",
            "Is Mr\n",
            "Wickham: 0? 1\n",
            "Is Lady\n",
            "Catherine: 0? 0\n",
            "Is Rosings: 0? -1\n",
            "Is De Bourgh: 0? 0\n",
            "Is George Wickham: 1? 1\n",
            "Is Mrs Jenkinson: 0? 0\n",
            "Is Mrs Gardiner: 0? 0\n",
            "Is Mrs Gardiner’s: 0? 0\n",
            "Is Kent: 0? -1\n",
            "Is Maria: 0? 0\n",
            "Is Mrs Collins: 0? 0\n",
            "Is Mrs Collins’s: 0? 0\n",
            "Is Fitzwilliam: 1? 1\n",
            "Is Mrs\n",
            "Collins: 0? 0\n",
            "Is Mrs Younge: 0? 0\n",
            "Is Mrs Forster: 0? 0\n",
            "Is Mrs Reynolds: 0? 0\n",
            "Is Frankenstein: 1? 1\n",
            "Is Elizabeth: 0? 0\n",
            "Is Victor: 1? 1\n",
            "Is Clerval: 1? 1\n",
            "Is Henry: 1? 1\n",
            "Is Ernest: 1? 1\n",
            "Is Justine: 0? 0\n",
            "Is William: 1? 1\n",
            "Is Felix: 1? 1\n",
            "Is Mr Heathcliff: 1? 1\n",
            "Is Lockwood: 1? 1\n",
            "Is Joseph: 1? 1\n",
            "Is Heathcliff: 1? 1\n",
            "Is Mrs Heathcliff: 0? 0\n",
            "Is Hareton: 1? 1\n",
            "Is Earnshaw: 1? 1\n",
            "Is Catherine Earnshaw: 1? 0\n",
            "Is Catherine Linton: 0? 0\n",
            "Is Linton: 1? 1\n",
            "Is Catherine: 0? 0\n",
            "Is Sabbath: 1? -1\n",
            "Is Cathy: 1? 0\n",
            "Is Mrs Dean: 0? 0\n",
            "Is Mrs Linton’s: 1? 0\n",
            "Is Mrs Earnshaw: 1? 0\n",
            "Is Mrs Linton: 0? 0\n",
            "Is Edgar: 1? 1\n",
            "Is Isabella: 0? 0\n",
            "Is Skulker: 0? -1\n",
            "Is Edgar Linton: 1? 1\n",
            "Is Isabella Linton: 0? 0\n",
            "Is Ellen: 1? 1\n",
            "Is Kenneth: 1? 1\n",
            "Is Miss: 0? -1\n",
            "Is Miss Catherine: 1? 0\n",
            "Is Edgar\n",
            "Linton: 1? 1\n",
            "Is Ellen Dean: 0? 0\n",
            "Is Mr Edgar: 0? 1\n",
            "Is Minny: 0? -1\n",
            "Is Green: 1? 1\n"
          ]
        }
      ]
    },
    {
      "cell_type": "markdown",
      "source": [
        "save to file"
      ],
      "metadata": {
        "id": "rs1FImJUvJik"
      }
    },
    {
      "cell_type": "code",
      "source": [
        "def save_books_person_dict(out_list, book):\n",
        "  df = pd.DataFrame(out_list, columns=['name', 'prediction', 'actual'])\n",
        "  df = df.astype({'actual': int})\n",
        "  df.to_csv(book + '_output' + '.csv', index=False)\n",
        "  return df\n",
        "\n",
        "df_pride = save_books_person_dict(out_list_pride, 'pride')\n",
        "df_frank = save_books_person_dict(out_list_frank, 'frank')\n",
        "df_wuther = save_books_person_dict(out_list_wuther, 'wuther')"
      ],
      "metadata": {
        "id": "jGceb3rvrGRH"
      },
      "execution_count": null,
      "outputs": []
    },
    {
      "cell_type": "code",
      "source": [
        "# df[df['name'] == 'ellen'][actual] = 0\n",
        "df_wuther.loc[df_wuther['name'] == 'Ellen', 'actual'] = 0"
      ],
      "metadata": {
        "id": "t7OOos5Jdl6n"
      },
      "execution_count": null,
      "outputs": []
    },
    {
      "cell_type": "code",
      "source": [],
      "metadata": {
        "id": "Adh_-1AseoHB"
      },
      "execution_count": null,
      "outputs": []
    },
    {
      "cell_type": "markdown",
      "source": [
        "calculate accuracy"
      ],
      "metadata": {
        "id": "2PUyv7zyvPvM"
      }
    },
    {
      "cell_type": "code",
      "source": [
        "def accuracy_calc(df, book):\n",
        "  print(f'Book: {book}')\n",
        "  # calculate accuracy, when predicted == actual that's good\n",
        "  accuracy = (df['prediction'] == df['actual']).sum() / len(df)\n",
        "  print(f'Total Accuracy: {round(accuracy*100,2)}%')\n",
        "  # female accuracy\n",
        "  female_df = df[df['actual'] == 0]\n",
        "  female_accuracy = (female_df['prediction'] == female_df['actual']).sum() / len(female_df)\n",
        "  print(f'Female Accuracy: {round(female_accuracy*100,2)}%')\n",
        "  # male accuracy\n",
        "  male_df = df[df['actual'] == 1]\n",
        "  male_accuracy = (male_df['prediction'] == male_df['actual']).sum() / len(male_df)\n",
        "  print(f'Male Accuracy: {round(male_accuracy*100,2)}%\\n')\n",
        "\n",
        "accuracy_calc(df_pride, 'Pride and Prejudice')\n",
        "accuracy_calc(df_frank, 'Frakenstein')\n",
        "accuracy_calc(df_wuther, 'Wuthering Heights')\n",
        "df_all = pd.concat([df_pride, df_frank, df_wuther])\n",
        "accuracy_calc(df_all, 'All Books')"
      ],
      "metadata": {
        "id": "-5rqFMfortjS",
        "colab": {
          "base_uri": "https://localhost:8080/"
        },
        "outputId": "0a33e273-de39-490c-ab46-30821b12daf5"
      },
      "execution_count": null,
      "outputs": [
        {
          "output_type": "stream",
          "name": "stdout",
          "text": [
            "Book: Pride and Prejudice\n",
            "Total Accuracy: 72.13%\n",
            "Female Accuracy: 83.33%\n",
            "Male Accuracy: 73.68%\n",
            "\n",
            "Book: Frakenstein\n",
            "Total Accuracy: 100.0%\n",
            "Female Accuracy: 100.0%\n",
            "Male Accuracy: 100.0%\n",
            "\n",
            "Book: Wuthering Heights\n",
            "Total Accuracy: 64.52%\n",
            "Female Accuracy: 57.14%\n",
            "Male Accuracy: 92.31%\n",
            "\n",
            "Book: All Books\n",
            "Total Accuracy: 72.28%\n",
            "Female Accuracy: 76.92%\n",
            "Male Accuracy: 84.62%\n",
            "\n"
          ]
        }
      ]
    },
    {
      "cell_type": "code",
      "source": [
        "books = [\n",
        "    accuracy_calc(df_pride, 'Pride and Prejudice'),\n",
        "    accuracy_calc(df_frank, 'Frankenstein'),\n",
        "    accuracy_calc(df_wuther, 'Wuthering Heights')\n",
        "]\n",
        "\n",
        "df_all = pd.concat([df_pride, df_frank, df_wuther])\n",
        "books.append(accuracy_calc(df_all, 'All Books'))\n",
        "\n",
        "fig, axs = plt.subplots(2, 2, figsize=(12, 10))\n",
        "fig.suptitle('Accuracy of Predictions for Each Book')\n",
        "\n",
        "for i, (book, total_acc, female_acc, male_acc) in enumerate(books):\n",
        "    ax = axs[i//2, i%2]\n",
        "    ax.bar(['Total', 'Female', 'Male'], [accuracy, female_accuracy, male_accuracy], color=['green', 'purple', 'orange'])\n",
        "    ax.set_title(book)\n",
        "    ax.set_ylim([0, 100])\n",
        "    for index, value in enumerate([total_acc, female_acc, male_acc]):\n",
        "        ax.text(index, value + 1, f'{value:.2f}%', ha='center')\n",
        "\n",
        "# Adjust layout\n",
        "plt.tight_layout(rect=[0, 0.03, 1, 0.95])\n",
        "plt.show()"
      ],
      "metadata": {
        "colab": {
          "base_uri": "https://localhost:8080/",
          "height": 1000
        },
        "id": "B8r5OqhsmTUg",
        "outputId": "3bc28be3-5a1e-4483-94e2-ce43d35eb4d3"
      },
      "execution_count": null,
      "outputs": [
        {
          "output_type": "stream",
          "name": "stdout",
          "text": [
            "Book: Pride and Prejudice\n",
            "Total Accuracy: 72.13%\n",
            "Female Accuracy: 83.33%\n",
            "Male Accuracy: 73.68%\n",
            "\n",
            "Book: Frankenstein\n",
            "Total Accuracy: 100.0%\n",
            "Female Accuracy: 100.0%\n",
            "Male Accuracy: 100.0%\n",
            "\n",
            "Book: Wuthering Heights\n",
            "Total Accuracy: 64.52%\n",
            "Female Accuracy: 57.14%\n",
            "Male Accuracy: 92.31%\n",
            "\n",
            "Book: All Books\n",
            "Total Accuracy: 72.28%\n",
            "Female Accuracy: 76.92%\n",
            "Male Accuracy: 84.62%\n",
            "\n"
          ]
        },
        {
          "output_type": "error",
          "ename": "TypeError",
          "evalue": "cannot unpack non-iterable NoneType object",
          "traceback": [
            "\u001b[0;31m---------------------------------------------------------------------------\u001b[0m",
            "\u001b[0;31mTypeError\u001b[0m                                 Traceback (most recent call last)",
            "\u001b[0;32m<ipython-input-44-c0d5e6645a95>\u001b[0m in \u001b[0;36m<cell line: 13>\u001b[0;34m()\u001b[0m\n\u001b[1;32m     11\u001b[0m \u001b[0mfig\u001b[0m\u001b[0;34m.\u001b[0m\u001b[0msuptitle\u001b[0m\u001b[0;34m(\u001b[0m\u001b[0;34m'Accuracy of Predictions for Each Book'\u001b[0m\u001b[0;34m)\u001b[0m\u001b[0;34m\u001b[0m\u001b[0;34m\u001b[0m\u001b[0m\n\u001b[1;32m     12\u001b[0m \u001b[0;34m\u001b[0m\u001b[0m\n\u001b[0;32m---> 13\u001b[0;31m \u001b[0;32mfor\u001b[0m \u001b[0mi\u001b[0m\u001b[0;34m,\u001b[0m \u001b[0;34m(\u001b[0m\u001b[0mbook\u001b[0m\u001b[0;34m,\u001b[0m \u001b[0mtotal_acc\u001b[0m\u001b[0;34m,\u001b[0m \u001b[0mfemale_acc\u001b[0m\u001b[0;34m,\u001b[0m \u001b[0mmale_acc\u001b[0m\u001b[0;34m)\u001b[0m \u001b[0;32min\u001b[0m \u001b[0menumerate\u001b[0m\u001b[0;34m(\u001b[0m\u001b[0mbooks\u001b[0m\u001b[0;34m)\u001b[0m\u001b[0;34m:\u001b[0m\u001b[0;34m\u001b[0m\u001b[0;34m\u001b[0m\u001b[0m\n\u001b[0m\u001b[1;32m     14\u001b[0m     \u001b[0max\u001b[0m \u001b[0;34m=\u001b[0m \u001b[0maxs\u001b[0m\u001b[0;34m[\u001b[0m\u001b[0mi\u001b[0m\u001b[0;34m//\u001b[0m\u001b[0;36m2\u001b[0m\u001b[0;34m,\u001b[0m \u001b[0mi\u001b[0m\u001b[0;34m%\u001b[0m\u001b[0;36m2\u001b[0m\u001b[0;34m]\u001b[0m\u001b[0;34m\u001b[0m\u001b[0;34m\u001b[0m\u001b[0m\n\u001b[1;32m     15\u001b[0m     \u001b[0max\u001b[0m\u001b[0;34m.\u001b[0m\u001b[0mbar\u001b[0m\u001b[0;34m(\u001b[0m\u001b[0;34m[\u001b[0m\u001b[0;34m'Total'\u001b[0m\u001b[0;34m,\u001b[0m \u001b[0;34m'Female'\u001b[0m\u001b[0;34m,\u001b[0m \u001b[0;34m'Male'\u001b[0m\u001b[0;34m]\u001b[0m\u001b[0;34m,\u001b[0m \u001b[0;34m[\u001b[0m\u001b[0maccuracy\u001b[0m\u001b[0;34m,\u001b[0m \u001b[0mfemale_accuracy\u001b[0m\u001b[0;34m,\u001b[0m \u001b[0mmale_accuracy\u001b[0m\u001b[0;34m]\u001b[0m\u001b[0;34m,\u001b[0m \u001b[0mcolor\u001b[0m\u001b[0;34m=\u001b[0m\u001b[0;34m[\u001b[0m\u001b[0;34m'green'\u001b[0m\u001b[0;34m,\u001b[0m \u001b[0;34m'purple'\u001b[0m\u001b[0;34m,\u001b[0m \u001b[0;34m'orange'\u001b[0m\u001b[0;34m]\u001b[0m\u001b[0;34m)\u001b[0m\u001b[0;34m\u001b[0m\u001b[0;34m\u001b[0m\u001b[0m\n",
            "\u001b[0;31mTypeError\u001b[0m: cannot unpack non-iterable NoneType object"
          ]
        },
        {
          "output_type": "display_data",
          "data": {
            "text/plain": [
              "<Figure size 1200x1000 with 4 Axes>"
            ],
            "image/png": "[encoded data removed]"
          },
          "metadata": {}
        }
      ]
    },
    {
      "cell_type": "markdown",
      "source": [
        "very good at predicting female characters, terrible at predicting males. This probably indicates the main subjectmatter of this book is women (idk). perhaps we can use this to predict the authors gender."
      ],
      "metadata": {
        "id": "VMXwk-u8yEoS"
      }
    },
    {
      "cell_type": "code",
      "source": [
        "# Pronoun Frequencies\n",
        "\n",
        "#xs = ['1', '2', '3']\n",
        "#s = ''.join(xs)\n",
        "\n",
        "books = [' '.join(pridesplit), ' '.join(franksplit,),  ' '.join(wuthersplit)]\n",
        "\n",
        "def analyze_pronouns(corpus):\n",
        "    \"\"\"\n",
        "    corpus: list of documents where each document is a list of tuples\n",
        "            with (token, pos) representing token and its part-of-speech.\n",
        "    returns: dictionary with t-test results for male and female pronoun counts.\n",
        "    \"\"\"\n",
        "    male_countSub_list = []\n",
        "    female_countSub_list = []\n",
        "    male_countObj_list = []\n",
        "    female_countObj_list = []\n",
        "\n",
        "\n",
        "    for doc in corpus:\n",
        "      annoted_sent = pipeline.annotate(doc) # annotate the sentence with parts of speach\n",
        "      tok_tag = [(annoted_sent['token'], annoted_sent['pos'])] # list of tuples (token, part of speech)\n",
        "      zips = [list(zip(tt[0],tt[1])) for tt in tok_tag]\n",
        "      male_count, female_count, male_countSub, female_countSub, male_countObj, female_countObj, male_countPos, female_countPos = count_subObjPos(zips)\n",
        "\n",
        "      male_countSub_list.append(male_countSub)\n",
        "      female_countSub_list.append(female_countSub)\n",
        "      male_countObj_list.append(male_countObj)\n",
        "      female_countObj_list.append(female_countObj)\n",
        "\n",
        "    # Perform t-tests\n",
        "    ttest_results = {}\n",
        "\n",
        "    ttest_results['male_sub_vs_female_sub'] = stats.ttest_ind(male_countSub_list, female_countSub_list, equal_var=False)\n",
        "    ttest_results['male_obj_vs_female_obj'] = stats.ttest_ind(male_countObj_list, female_countObj_list, equal_var=False)\n",
        "\n",
        "    print()\n",
        "\n",
        "    return ttest_results"
      ],
      "metadata": {
        "id": "zyhZEmUvhLfB"
      },
      "execution_count": null,
      "outputs": []
    },
    {
      "cell_type": "code",
      "source": [
        "ttest = analyze_pronouns(books)"
      ],
      "metadata": {
        "id": "RWq6UIItjSDW"
      },
      "execution_count": null,
      "outputs": []
    },
    {
      "cell_type": "code",
      "source": [
        "ttest"
      ],
      "metadata": {
        "colab": {
          "base_uri": "https://localhost:8080/"
        },
        "id": "FYV3DCHhjbq-",
        "outputId": "807bada4-766d-45fa-f5fb-c04510013d61"
      },
      "execution_count": null,
      "outputs": [
        {
          "output_type": "execute_result",
          "data": {
            "text/plain": [
              "{'male_sub_vs_female_sub': TtestResult(statistic=0.3494248499038809, pvalue=0.7447884187988674, df=3.9070161694515866),\n",
              " 'male_obj_vs_female_obj': TtestResult(statistic=3.055041023701978, pvalue=0.09251528184878668, df=2.0)}"
            ]
          },
          "metadata": {},
          "execution_count": 41
        }
      ]
    }
  ],
  "metadata": {
    "colab": {
      "provenance": []
    },
    "kernelspec": {
      "display_name": "Python 3",
      "name": "python3"
    },
    "language_info": {
      "name": "python"
    }
  },
  "nbformat": 4,
  "nbformat_minor": 0
}